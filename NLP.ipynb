{
 "cells": [
  {
   "cell_type": "code",
   "execution_count": 1,
   "metadata": {},
   "outputs": [],
   "source": [
    "import numpy as np\n",
    "import pandas as pd\n",
    "import matplotlib.pyplot as plt\n",
    "import re\n",
    "import nltk\n",
    "nltk.download('stopwords')"
   ]
  },
  {
   "cell_type": "code",
   "execution_count": 25,
   "metadata": {},
   "outputs": [],
   "source": [
    "import os\n",
    "filepath_recipes = os.path.abspath(\"C:/Users/zhan3/Desktop/RAW_recipes.csv\")\n",
    "filepath_interactions = os.path.abspath(\"C:/Users/zhan3/Desktop/RAW_interactions.csv\")"
   ]
  },
  {
   "cell_type": "code",
   "execution_count": 66,
   "metadata": {},
   "outputs": [],
   "source": [
    "df_recipe = pd.read_csv(filepath_recipes)\n",
    "df_interaction = pd.read_csv(filepath_interactions)\n",
    "df = pd.merge(df_recipe, df_interaction, how='inner', left_on='id', right_on='recipe_id')"
   ]
  },
  {
   "cell_type": "code",
   "execution_count": 69,
   "metadata": {},
   "outputs": [
    {
     "data": {
      "text/plain": [
       "id\n",
       "38    4.250000\n",
       "39    3.000000\n",
       "40    4.333333\n",
       "41    4.500000\n",
       "43    1.000000\n",
       "Name: rating, dtype: float64"
      ]
     },
     "execution_count": 69,
     "metadata": {},
     "output_type": "execute_result"
    }
   ],
   "source": [
    "df_rating = df.groupby('id').mean()['rating']\n",
    "df_rating.head()"
   ]
  },
  {
   "cell_type": "code",
   "execution_count": 174,
   "metadata": {},
   "outputs": [],
   "source": [
    "df_new = pd.merge(df_recipe, df_rating, how='left', on='id')"
   ]
  },
  {
   "cell_type": "code",
   "execution_count": 175,
   "metadata": {},
   "outputs": [],
   "source": [
    "df_new = df_new[['id', 'name', 'tags', 'description', 'ingredients', 'rating']]\n",
    "df_new.dropna(axis=0, inplace=True)\n",
    "df_final = df_new.reset_index(drop=True)"
   ]
  },
  {
   "cell_type": "code",
   "execution_count": 177,
   "metadata": {},
   "outputs": [],
   "source": [
    "from nltk.corpus import stopwords\n",
    "from nltk.stem.porter import PorterStemmer"
   ]
  },
  {
   "cell_type": "markdown",
   "metadata": {},
   "source": [
    "#### Run this cell carefully, it will take 30 minutes."
   ]
  },
  {
   "cell_type": "code",
   "execution_count": 178,
   "metadata": {},
   "outputs": [],
   "source": [
    "# for i in range(len(df_final)):\n",
    "    \n",
    "#     ingredients = df_final.loc[i]['ingredients']\n",
    "#     ingredients = re.sub('[^a-zA-Z]', ' ', ingredients)\n",
    "#     name = df_final.loc[i]['name']\n",
    "#     name = re.sub('[^a-zA-Z]', ' ', name)\n",
    "#     combined = name + ingredients\n",
    "#     combined = combined.split()\n",
    "#     ps = PorterStemmer()\n",
    "#     combined = [ps.stem(word) for word in combined if not word in set(stopwords.words('english'))]\n",
    "#     combined = ' '.join(combined)\n",
    "#     df_final.at[i, \"combined words\"] = combined    "
   ]
  },
  {
   "cell_type": "code",
   "execution_count": 181,
   "metadata": {},
   "outputs": [],
   "source": [
    "# df_final.to_csv('recipe.csv', index=False)"
   ]
  },
  {
   "cell_type": "code",
   "execution_count": 182,
   "metadata": {},
   "outputs": [],
   "source": [
    "df_read = pd.read_csv('recipe.csv')"
   ]
  },
  {
   "cell_type": "code",
   "execution_count": 183,
   "metadata": {},
   "outputs": [
    {
     "data": {
      "text/html": [
       "<div>\n",
       "<style scoped>\n",
       "    .dataframe tbody tr th:only-of-type {\n",
       "        vertical-align: middle;\n",
       "    }\n",
       "\n",
       "    .dataframe tbody tr th {\n",
       "        vertical-align: top;\n",
       "    }\n",
       "\n",
       "    .dataframe thead th {\n",
       "        text-align: right;\n",
       "    }\n",
       "</style>\n",
       "<table border=\"1\" class=\"dataframe\">\n",
       "  <thead>\n",
       "    <tr style=\"text-align: right;\">\n",
       "      <th></th>\n",
       "      <th>id</th>\n",
       "      <th>name</th>\n",
       "      <th>tags</th>\n",
       "      <th>description</th>\n",
       "      <th>ingredients</th>\n",
       "      <th>rating</th>\n",
       "      <th>combined words</th>\n",
       "    </tr>\n",
       "  </thead>\n",
       "  <tbody>\n",
       "    <tr>\n",
       "      <th>0</th>\n",
       "      <td>137739</td>\n",
       "      <td>arriba   baked winter squash mexican style</td>\n",
       "      <td>['60-minutes-or-less', 'time-to-make', 'course...</td>\n",
       "      <td>autumn is my favorite time of year to cook! th...</td>\n",
       "      <td>['winter squash', 'mexican seasoning', 'mixed ...</td>\n",
       "      <td>5.0</td>\n",
       "      <td>arriba bake winter squash mexican style winter...</td>\n",
       "    </tr>\n",
       "    <tr>\n",
       "      <th>1</th>\n",
       "      <td>31490</td>\n",
       "      <td>a bit different  breakfast pizza</td>\n",
       "      <td>['30-minutes-or-less', 'time-to-make', 'course...</td>\n",
       "      <td>this recipe calls for the crust to be prebaked...</td>\n",
       "      <td>['prepared pizza crust', 'sausage patty', 'egg...</td>\n",
       "      <td>3.5</td>\n",
       "      <td>bit differ breakfast pizza prepar pizza crust ...</td>\n",
       "    </tr>\n",
       "    <tr>\n",
       "      <th>2</th>\n",
       "      <td>112140</td>\n",
       "      <td>all in the kitchen  chili</td>\n",
       "      <td>['time-to-make', 'course', 'preparation', 'mai...</td>\n",
       "      <td>this modified version of 'mom's' chili was a h...</td>\n",
       "      <td>['ground beef', 'yellow onions', 'diced tomato...</td>\n",
       "      <td>4.0</td>\n",
       "      <td>kitchen chili ground beef yellow onion dice to...</td>\n",
       "    </tr>\n",
       "    <tr>\n",
       "      <th>3</th>\n",
       "      <td>59389</td>\n",
       "      <td>alouette  potatoes</td>\n",
       "      <td>['60-minutes-or-less', 'time-to-make', 'course...</td>\n",
       "      <td>this is a super easy, great tasting, make ahea...</td>\n",
       "      <td>['spreadable cheese with garlic and herbs', 'n...</td>\n",
       "      <td>4.5</td>\n",
       "      <td>alouett potato spreadabl chees garlic herb new...</td>\n",
       "    </tr>\n",
       "    <tr>\n",
       "      <th>4</th>\n",
       "      <td>44061</td>\n",
       "      <td>amish  tomato ketchup  for canning</td>\n",
       "      <td>['weeknight', 'time-to-make', 'course', 'main-...</td>\n",
       "      <td>my dh's amish mother raised him on this recipe...</td>\n",
       "      <td>['tomato juice', 'apple cider vinegar', 'sugar...</td>\n",
       "      <td>5.0</td>\n",
       "      <td>amish tomato ketchup canning tomato juic appl ...</td>\n",
       "    </tr>\n",
       "  </tbody>\n",
       "</table>\n",
       "</div>"
      ],
      "text/plain": [
       "       id                                        name  \\\n",
       "0  137739  arriba   baked winter squash mexican style   \n",
       "1   31490            a bit different  breakfast pizza   \n",
       "2  112140                   all in the kitchen  chili   \n",
       "3   59389                          alouette  potatoes   \n",
       "4   44061          amish  tomato ketchup  for canning   \n",
       "\n",
       "                                                tags  \\\n",
       "0  ['60-minutes-or-less', 'time-to-make', 'course...   \n",
       "1  ['30-minutes-or-less', 'time-to-make', 'course...   \n",
       "2  ['time-to-make', 'course', 'preparation', 'mai...   \n",
       "3  ['60-minutes-or-less', 'time-to-make', 'course...   \n",
       "4  ['weeknight', 'time-to-make', 'course', 'main-...   \n",
       "\n",
       "                                         description  \\\n",
       "0  autumn is my favorite time of year to cook! th...   \n",
       "1  this recipe calls for the crust to be prebaked...   \n",
       "2  this modified version of 'mom's' chili was a h...   \n",
       "3  this is a super easy, great tasting, make ahea...   \n",
       "4  my dh's amish mother raised him on this recipe...   \n",
       "\n",
       "                                         ingredients  rating  \\\n",
       "0  ['winter squash', 'mexican seasoning', 'mixed ...     5.0   \n",
       "1  ['prepared pizza crust', 'sausage patty', 'egg...     3.5   \n",
       "2  ['ground beef', 'yellow onions', 'diced tomato...     4.0   \n",
       "3  ['spreadable cheese with garlic and herbs', 'n...     4.5   \n",
       "4  ['tomato juice', 'apple cider vinegar', 'sugar...     5.0   \n",
       "\n",
       "                                      combined words  \n",
       "0  arriba bake winter squash mexican style winter...  \n",
       "1  bit differ breakfast pizza prepar pizza crust ...  \n",
       "2  kitchen chili ground beef yellow onion dice to...  \n",
       "3  alouett potato spreadabl chees garlic herb new...  \n",
       "4  amish tomato ketchup canning tomato juic appl ...  "
      ]
     },
     "execution_count": 183,
     "metadata": {},
     "output_type": "execute_result"
    }
   ],
   "source": [
    "df_read.head()"
   ]
  },
  {
   "cell_type": "code",
   "execution_count": null,
   "metadata": {},
   "outputs": [],
   "source": []
  }
 ],
 "metadata": {
  "kernelspec": {
   "display_name": "Python 3",
   "language": "python",
   "name": "python3"
  },
  "language_info": {
   "codemirror_mode": {
    "name": "ipython",
    "version": 3
   },
   "file_extension": ".py",
   "mimetype": "text/x-python",
   "name": "python",
   "nbconvert_exporter": "python",
   "pygments_lexer": "ipython3",
   "version": "3.6.10"
  }
 },
 "nbformat": 4,
 "nbformat_minor": 4
}
