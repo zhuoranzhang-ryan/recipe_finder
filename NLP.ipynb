{
 "cells": [
  {
   "cell_type": "code",
   "execution_count": 1,
   "metadata": {},
   "outputs": [
    {
     "name": "stderr",
     "output_type": "stream",
     "text": [
      "[nltk_data] Downloading package stopwords to\n",
      "[nltk_data]     C:\\Users\\zhan3\\AppData\\Roaming\\nltk_data...\n",
      "[nltk_data]   Package stopwords is already up-to-date!\n"
     ]
    },
    {
     "data": {
      "text/plain": [
       "True"
      ]
     },
     "execution_count": 1,
     "metadata": {},
     "output_type": "execute_result"
    }
   ],
   "source": [
    "import numpy as np\n",
    "import pandas as pd\n",
    "import matplotlib.pyplot as plt\n",
    "import re\n",
    "import nltk\n",
    "nltk.download('stopwords')"
   ]
  },
  {
   "cell_type": "code",
   "execution_count": 2,
   "metadata": {},
   "outputs": [],
   "source": [
    "import os\n",
    "filepath_recipes = os.path.abspath(\"C:/Users/zhan3/Desktop/RAW_recipes.csv\")\n",
    "filepath_interactions = os.path.abspath(\"C:/Users/zhan3/Desktop/RAW_interactions.csv\")"
   ]
  },
  {
   "cell_type": "code",
   "execution_count": null,
   "metadata": {},
   "outputs": [],
   "source": [
    "df_recipe = pd.read_csv(filepath_recipes)\n",
    "df_interaction = pd.read_csv(filepath_interactions)\n",
    "df = pd.merge(df_recipe, df_interaction, how='inner', left_on='id', right_on='recipe_id')"
   ]
  },
  {
   "cell_type": "code",
   "execution_count": null,
   "metadata": {},
   "outputs": [],
   "source": [
    "df_rating = df.groupby('id').mean()['rating']"
   ]
  },
  {
   "cell_type": "code",
   "execution_count": null,
   "metadata": {},
   "outputs": [],
   "source": [
    "df_reviews = df.groupby('id').count()['review']"
   ]
  },
  {
   "cell_type": "code",
   "execution_count": null,
   "metadata": {},
   "outputs": [],
   "source": [
    "df_new = pd.merge(df_recipe, df_rating, how='left', on='id')"
   ]
  },
  {
   "cell_type": "code",
   "execution_count": null,
   "metadata": {},
   "outputs": [],
   "source": [
    "df_new = df_new[['id', 'name', 'tags', 'description', 'ingredients', 'rating']]\n",
    "df_new.dropna(axis=0, inplace=True)\n",
    "df_final = df_new.reset_index(drop=True)"
   ]
  },
  {
   "cell_type": "code",
   "execution_count": null,
   "metadata": {},
   "outputs": [],
   "source": [
    "df_final.head()"
   ]
  },
  {
   "cell_type": "code",
   "execution_count": 3,
   "metadata": {},
   "outputs": [],
   "source": [
    "from nltk.corpus import stopwords\n",
    "from nltk.stem.porter import PorterStemmer"
   ]
  },
  {
   "cell_type": "markdown",
   "metadata": {},
   "source": [
    "#### Run this cell carefully, it will take 30 minutes."
   ]
  },
  {
   "cell_type": "code",
   "execution_count": 4,
   "metadata": {},
   "outputs": [],
   "source": [
    "# for i in range(len(df_final)):\n",
    "    \n",
    "#     ingredients = df_final.loc[i]['ingredients']\n",
    "#     ingredients = re.sub('[^a-zA-Z]', ' ', ingredients)\n",
    "#     name = df_final.loc[i]['name']\n",
    "#     name = re.sub('[^a-zA-Z]', ' ', name)\n",
    "#     combined = name + ingredients\n",
    "#     combined = combined.split()\n",
    "#     ps = PorterStemmer()\n",
    "#     combined = [ps.stem(word) for word in combined if not word in set(stopwords.words('english'))]\n",
    "#     combined = ' '.join(combined)\n",
    "#     df_final.at[i, \"combined words\"] = combined    "
   ]
  },
  {
   "cell_type": "code",
   "execution_count": 5,
   "metadata": {},
   "outputs": [],
   "source": [
    "# df_final.to_csv('recipe.csv', index=False)"
   ]
  },
  {
   "cell_type": "code",
   "execution_count": 6,
   "metadata": {},
   "outputs": [],
   "source": [
    "# df_read = pd.read_csv('recipe.csv')\n",
    "# df_read = pd.merge(df_read, df_reviews, how='left', on='id')\n",
    "# df_words = df_read[['id', 'combined words', 'rating', 'review']]"
   ]
  },
  {
   "cell_type": "code",
   "execution_count": 7,
   "metadata": {},
   "outputs": [],
   "source": [
    "# df_words.to_csv('recipe_final.csv')"
   ]
  },
  {
   "cell_type": "markdown",
   "metadata": {},
   "source": [
    "### NLP training"
   ]
  },
  {
   "cell_type": "code",
   "execution_count": 8,
   "metadata": {},
   "outputs": [
    {
     "data": {
      "text/html": [
       "<div>\n",
       "<style scoped>\n",
       "    .dataframe tbody tr th:only-of-type {\n",
       "        vertical-align: middle;\n",
       "    }\n",
       "\n",
       "    .dataframe tbody tr th {\n",
       "        vertical-align: top;\n",
       "    }\n",
       "\n",
       "    .dataframe thead th {\n",
       "        text-align: right;\n",
       "    }\n",
       "</style>\n",
       "<table border=\"1\" class=\"dataframe\">\n",
       "  <thead>\n",
       "    <tr style=\"text-align: right;\">\n",
       "      <th></th>\n",
       "      <th>id</th>\n",
       "      <th>combined words</th>\n",
       "      <th>rating</th>\n",
       "      <th>review</th>\n",
       "    </tr>\n",
       "  </thead>\n",
       "  <tbody>\n",
       "    <tr>\n",
       "      <th>0</th>\n",
       "      <td>137739</td>\n",
       "      <td>arriba bake winter squash mexican style winter...</td>\n",
       "      <td>5.0</td>\n",
       "      <td>3</td>\n",
       "    </tr>\n",
       "    <tr>\n",
       "      <th>1</th>\n",
       "      <td>31490</td>\n",
       "      <td>bit differ breakfast pizza prepar pizza crust ...</td>\n",
       "      <td>3.5</td>\n",
       "      <td>4</td>\n",
       "    </tr>\n",
       "    <tr>\n",
       "      <th>2</th>\n",
       "      <td>112140</td>\n",
       "      <td>kitchen chili ground beef yellow onion dice to...</td>\n",
       "      <td>4.0</td>\n",
       "      <td>1</td>\n",
       "    </tr>\n",
       "    <tr>\n",
       "      <th>3</th>\n",
       "      <td>59389</td>\n",
       "      <td>alouett potato spreadabl chees garlic herb new...</td>\n",
       "      <td>4.5</td>\n",
       "      <td>2</td>\n",
       "    </tr>\n",
       "    <tr>\n",
       "      <th>4</th>\n",
       "      <td>44061</td>\n",
       "      <td>amish tomato ketchup canning tomato juic appl ...</td>\n",
       "      <td>5.0</td>\n",
       "      <td>1</td>\n",
       "    </tr>\n",
       "    <tr>\n",
       "      <th>...</th>\n",
       "      <td>...</td>\n",
       "      <td>...</td>\n",
       "      <td>...</td>\n",
       "      <td>...</td>\n",
       "    </tr>\n",
       "    <tr>\n",
       "      <th>226652</th>\n",
       "      <td>486161</td>\n",
       "      <td>zydeco soup celeri onion green sweet pepper ga...</td>\n",
       "      <td>5.0</td>\n",
       "      <td>6</td>\n",
       "    </tr>\n",
       "    <tr>\n",
       "      <th>226653</th>\n",
       "      <td>493372</td>\n",
       "      <td>zydeco spice mix paprika salt garlic powder on...</td>\n",
       "      <td>5.0</td>\n",
       "      <td>1</td>\n",
       "    </tr>\n",
       "    <tr>\n",
       "      <th>226654</th>\n",
       "      <td>308080</td>\n",
       "      <td>zydeco ya ya devil egg hard cook egg mayonnais...</td>\n",
       "      <td>5.0</td>\n",
       "      <td>5</td>\n",
       "    </tr>\n",
       "    <tr>\n",
       "      <th>226655</th>\n",
       "      <td>298512</td>\n",
       "      <td>cooki design cooki stick butter eagl brand con...</td>\n",
       "      <td>1.0</td>\n",
       "      <td>1</td>\n",
       "    </tr>\n",
       "    <tr>\n",
       "      <th>226656</th>\n",
       "      <td>298509</td>\n",
       "      <td>cooki design sugar shortbread cooki granul sug...</td>\n",
       "      <td>2.0</td>\n",
       "      <td>3</td>\n",
       "    </tr>\n",
       "  </tbody>\n",
       "</table>\n",
       "<p>226657 rows × 4 columns</p>\n",
       "</div>"
      ],
      "text/plain": [
       "            id                                     combined words  rating  \\\n",
       "0       137739  arriba bake winter squash mexican style winter...     5.0   \n",
       "1        31490  bit differ breakfast pizza prepar pizza crust ...     3.5   \n",
       "2       112140  kitchen chili ground beef yellow onion dice to...     4.0   \n",
       "3        59389  alouett potato spreadabl chees garlic herb new...     4.5   \n",
       "4        44061  amish tomato ketchup canning tomato juic appl ...     5.0   \n",
       "...        ...                                                ...     ...   \n",
       "226652  486161  zydeco soup celeri onion green sweet pepper ga...     5.0   \n",
       "226653  493372  zydeco spice mix paprika salt garlic powder on...     5.0   \n",
       "226654  308080  zydeco ya ya devil egg hard cook egg mayonnais...     5.0   \n",
       "226655  298512  cooki design cooki stick butter eagl brand con...     1.0   \n",
       "226656  298509  cooki design sugar shortbread cooki granul sug...     2.0   \n",
       "\n",
       "        review  \n",
       "0            3  \n",
       "1            4  \n",
       "2            1  \n",
       "3            2  \n",
       "4            1  \n",
       "...        ...  \n",
       "226652       6  \n",
       "226653       1  \n",
       "226654       5  \n",
       "226655       1  \n",
       "226656       3  \n",
       "\n",
       "[226657 rows x 4 columns]"
      ]
     },
     "execution_count": 8,
     "metadata": {},
     "output_type": "execute_result"
    }
   ],
   "source": [
    "df_words = pd.read_csv(\"recipe_final.txt\",index_col=[0])\n",
    "df_words"
   ]
  },
  {
   "cell_type": "code",
   "execution_count": 9,
   "metadata": {},
   "outputs": [],
   "source": [
    "from sklearn.feature_extraction.text import TfidfVectorizer\n",
    "from sklearn.metrics.pairwise import cosine_similarity"
   ]
  },
  {
   "cell_type": "code",
   "execution_count": 10,
   "metadata": {},
   "outputs": [],
   "source": [
    "# Map the word column into an array\n",
    "text = df_words['combined words'].to_list()\n",
    "\n",
    "# Calculate the TF-IDF matrix\n",
    "model = TfidfVectorizer()\n",
    "matrix = model.fit_transform(text)"
   ]
  },
  {
   "cell_type": "code",
   "execution_count": 11,
   "metadata": {},
   "outputs": [],
   "source": [
    "def query_preprocessing(query):\n",
    "    \n",
    "    query = re.sub('[^a-zA-Z]', ' ', query)\n",
    "    query = query.split()\n",
    "    ps = PorterStemmer()\n",
    "    query = [ps.stem(word) for word in query if not word in set(stopwords.words('english'))]\n",
    "    query = ' '.join(query)\n",
    "    \n",
    "    return query"
   ]
  },
  {
   "cell_type": "code",
   "execution_count": 18,
   "metadata": {},
   "outputs": [],
   "source": [
    "def get_recipe(query):\n",
    "    \n",
    "    query = query_preprocessing(query)\n",
    "    query_matrix = model.transform([query])\n",
    "    similarity = cosine_similarity(matrix, query_matrix)\n",
    "    \n",
    "    similarity.flatten()\n",
    "    top10 = np.argsort(similarity.flatten())[::-1][:100]\n",
    "    top10sorted = np.sort(similarity.flatten())[::-1][:100]\n",
    "    length = len(top10)\n",
    "    results = []\n",
    "    \n",
    "    for i in range(length):\n",
    "        j = top10[i]\n",
    "        name = df_words.loc[j]['combined words']\n",
    "        rating = df_words.loc[j]['rating']\n",
    "        review = df_words.loc[j]['review']\n",
    "        tmp = top10sorted[i] * rating * review\n",
    "        results.append(tmp)\n",
    "        \n",
    "    resultssorted = np.argsort(results)\n",
    "    bestindex = top10[resultssorted[-1]]\n",
    "    print(df_words.loc[bestindex])\n",
    "    \n",
    "    return name"
   ]
  },
  {
   "cell_type": "code",
   "execution_count": 19,
   "metadata": {},
   "outputs": [
    {
     "name": "stdout",
     "output_type": "stream",
     "text": [
      "id                                                           321928\n",
      "combined words    parmesan crust chicken arugula salad dijon mus...\n",
      "rating                                                      4.58824\n",
      "review                                                           17\n",
      "Name: 149747, dtype: object\n",
      "dri fig goat chees arugula salad walnut rosemari honey sherri wine vinegar water dijon mustard salt pepper extra virgin oliv oil arugula dri fig goat chees\n"
     ]
    }
   ],
   "source": [
    "print(get_recipe('arugula salad'))"
   ]
  },
  {
   "cell_type": "code",
   "execution_count": null,
   "metadata": {},
   "outputs": [],
   "source": []
  }
 ],
 "metadata": {
  "kernelspec": {
   "display_name": "Python 3",
   "language": "python",
   "name": "python3"
  },
  "language_info": {
   "codemirror_mode": {
    "name": "ipython",
    "version": 3
   },
   "file_extension": ".py",
   "mimetype": "text/x-python",
   "name": "python",
   "nbconvert_exporter": "python",
   "pygments_lexer": "ipython3",
   "version": "3.6.10"
  }
 },
 "nbformat": 4,
 "nbformat_minor": 4
}
