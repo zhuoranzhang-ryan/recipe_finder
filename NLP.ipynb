{
 "cells": [
  {
   "cell_type": "code",
   "execution_count": 1,
   "metadata": {},
   "outputs": [
    {
     "name": "stderr",
     "output_type": "stream",
     "text": [
      "[nltk_data] Downloading package stopwords to\n",
      "[nltk_data]     C:\\Users\\dudiw\\AppData\\Roaming\\nltk_data...\n",
      "[nltk_data]   Unzipping corpora\\stopwords.zip.\n"
     ]
    },
    {
     "data": {
      "text/plain": [
       "True"
      ]
     },
     "execution_count": 1,
     "metadata": {},
     "output_type": "execute_result"
    }
   ],
   "source": [
    "import numpy as np\n",
    "import pandas as pd\n",
    "import matplotlib.pyplot as plt\n",
    "import re\n",
    "import nltk\n",
    "nltk.download('stopwords')"
   ]
  },
  {
   "cell_type": "code",
   "execution_count": null,
   "metadata": {},
   "outputs": [],
   "source": [
    "import os\n",
    "filepath_recipes = os.path.abspath(\"C:/Users/zhan3/Desktop/RAW_recipes.csv\")\n",
    "filepath_interactions = os.path.abspath(\"C:/Users/zhan3/Desktop/RAW_interactions.csv\")"
   ]
  },
  {
   "cell_type": "code",
   "execution_count": null,
   "metadata": {},
   "outputs": [],
   "source": [
    "df_recipe = pd.read_csv(filepath_recipes)\n",
    "df_interaction = pd.read_csv(filepath_interactions)\n",
    "df = pd.merge(df_recipe, df_interaction, how='inner', left_on='id', right_on='recipe_id')"
   ]
  },
  {
   "cell_type": "code",
   "execution_count": null,
   "metadata": {},
   "outputs": [],
   "source": [
    "df_rating = df.groupby('id').mean()['rating']"
   ]
  },
  {
   "cell_type": "code",
   "execution_count": null,
   "metadata": {},
   "outputs": [],
   "source": [
    "df_reviews = df.groupby('id').count()['review']"
   ]
  },
  {
   "cell_type": "code",
   "execution_count": null,
   "metadata": {},
   "outputs": [],
   "source": [
    "df_new = pd.merge(df_recipe, df_rating, how='left', on='id')"
   ]
  },
  {
   "cell_type": "code",
   "execution_count": null,
   "metadata": {},
   "outputs": [],
   "source": [
    "df_new = df_new[['id', 'name', 'tags', 'description', 'ingredients', 'rating']]\n",
    "df_new.dropna(axis=0, inplace=True)\n",
    "df_final = df_new.reset_index(drop=True)"
   ]
  },
  {
   "cell_type": "code",
   "execution_count": null,
   "metadata": {},
   "outputs": [],
   "source": [
    "df_final.head()"
   ]
  },
  {
   "cell_type": "code",
   "execution_count": 2,
   "metadata": {},
   "outputs": [],
   "source": [
    "from nltk.corpus import stopwords\n",
    "from nltk.stem.porter import PorterStemmer"
   ]
  },
  {
   "cell_type": "markdown",
   "metadata": {},
   "source": [
    "#### Run this cell carefully, it will take 30 minutes."
   ]
  },
  {
   "cell_type": "code",
   "execution_count": null,
   "metadata": {},
   "outputs": [],
   "source": [
    "# for i in range(len(df_final)):\n",
    "    \n",
    "#     ingredients = df_final.loc[i]['ingredients']\n",
    "#     ingredients = re.sub('[^a-zA-Z]', ' ', ingredients)\n",
    "#     name = df_final.loc[i]['name']\n",
    "#     name = re.sub('[^a-zA-Z]', ' ', name)\n",
    "#     combined = name + ingredients\n",
    "#     combined = combined.split()\n",
    "#     ps = PorterStemmer()\n",
    "#     combined = [ps.stem(word) for word in combined if not word in set(stopwords.words('english'))]\n",
    "#     combined = ' '.join(combined)\n",
    "#     df_final.at[i, \"combined words\"] = combined    "
   ]
  },
  {
   "cell_type": "code",
   "execution_count": null,
   "metadata": {},
   "outputs": [],
   "source": [
    "# df_final.to_csv('recipe.csv', index=False)"
   ]
  },
  {
   "cell_type": "code",
   "execution_count": null,
   "metadata": {},
   "outputs": [],
   "source": [
    "# df_read = pd.read_csv('recipe.csv')\n",
    "# df_read = pd.merge(df_read, df_reviews, how='left', on='id')\n",
    "# df_words = df_read[['id', 'combined words', 'rating', 'review']]"
   ]
  },
  {
   "cell_type": "code",
   "execution_count": null,
   "metadata": {},
   "outputs": [],
   "source": [
    "# df_words.to_csv('recipe_final.csv')"
   ]
  },
  {
   "cell_type": "markdown",
   "metadata": {},
   "source": [
    "### NLP training"
   ]
  },
  {
   "cell_type": "code",
   "execution_count": 20,
   "metadata": {},
   "outputs": [
    {
     "data": {
      "text/html": [
       "<div>\n",
       "<style scoped>\n",
       "    .dataframe tbody tr th:only-of-type {\n",
       "        vertical-align: middle;\n",
       "    }\n",
       "\n",
       "    .dataframe tbody tr th {\n",
       "        vertical-align: top;\n",
       "    }\n",
       "\n",
       "    .dataframe thead th {\n",
       "        text-align: right;\n",
       "    }\n",
       "</style>\n",
       "<table border=\"1\" class=\"dataframe\">\n",
       "  <thead>\n",
       "    <tr style=\"text-align: right;\">\n",
       "      <th></th>\n",
       "      <th>id</th>\n",
       "      <th>combined words</th>\n",
       "      <th>rating</th>\n",
       "      <th>review</th>\n",
       "    </tr>\n",
       "  </thead>\n",
       "  <tbody>\n",
       "    <tr>\n",
       "      <th>0</th>\n",
       "      <td>137739</td>\n",
       "      <td>arriba bake winter squash mexican style winter...</td>\n",
       "      <td>5.0</td>\n",
       "      <td>3</td>\n",
       "    </tr>\n",
       "    <tr>\n",
       "      <th>1</th>\n",
       "      <td>31490</td>\n",
       "      <td>bit differ breakfast pizza prepar pizza crust ...</td>\n",
       "      <td>3.5</td>\n",
       "      <td>4</td>\n",
       "    </tr>\n",
       "    <tr>\n",
       "      <th>2</th>\n",
       "      <td>112140</td>\n",
       "      <td>kitchen chili ground beef yellow onion dice to...</td>\n",
       "      <td>4.0</td>\n",
       "      <td>1</td>\n",
       "    </tr>\n",
       "    <tr>\n",
       "      <th>3</th>\n",
       "      <td>59389</td>\n",
       "      <td>alouett potato spreadabl chees garlic herb new...</td>\n",
       "      <td>4.5</td>\n",
       "      <td>2</td>\n",
       "    </tr>\n",
       "    <tr>\n",
       "      <th>4</th>\n",
       "      <td>44061</td>\n",
       "      <td>amish tomato ketchup canning tomato juic appl ...</td>\n",
       "      <td>5.0</td>\n",
       "      <td>1</td>\n",
       "    </tr>\n",
       "    <tr>\n",
       "      <th>...</th>\n",
       "      <td>...</td>\n",
       "      <td>...</td>\n",
       "      <td>...</td>\n",
       "      <td>...</td>\n",
       "    </tr>\n",
       "    <tr>\n",
       "      <th>226652</th>\n",
       "      <td>486161</td>\n",
       "      <td>zydeco soup celeri onion green sweet pepper ga...</td>\n",
       "      <td>5.0</td>\n",
       "      <td>6</td>\n",
       "    </tr>\n",
       "    <tr>\n",
       "      <th>226653</th>\n",
       "      <td>493372</td>\n",
       "      <td>zydeco spice mix paprika salt garlic powder on...</td>\n",
       "      <td>5.0</td>\n",
       "      <td>1</td>\n",
       "    </tr>\n",
       "    <tr>\n",
       "      <th>226654</th>\n",
       "      <td>308080</td>\n",
       "      <td>zydeco ya ya devil egg hard cook egg mayonnais...</td>\n",
       "      <td>5.0</td>\n",
       "      <td>5</td>\n",
       "    </tr>\n",
       "    <tr>\n",
       "      <th>226655</th>\n",
       "      <td>298512</td>\n",
       "      <td>cooki design cooki stick butter eagl brand con...</td>\n",
       "      <td>1.0</td>\n",
       "      <td>1</td>\n",
       "    </tr>\n",
       "    <tr>\n",
       "      <th>226656</th>\n",
       "      <td>298509</td>\n",
       "      <td>cooki design sugar shortbread cooki granul sug...</td>\n",
       "      <td>2.0</td>\n",
       "      <td>3</td>\n",
       "    </tr>\n",
       "  </tbody>\n",
       "</table>\n",
       "<p>226657 rows × 4 columns</p>\n",
       "</div>"
      ],
      "text/plain": [
       "            id                                     combined words  rating  \\\n",
       "0       137739  arriba bake winter squash mexican style winter...     5.0   \n",
       "1        31490  bit differ breakfast pizza prepar pizza crust ...     3.5   \n",
       "2       112140  kitchen chili ground beef yellow onion dice to...     4.0   \n",
       "3        59389  alouett potato spreadabl chees garlic herb new...     4.5   \n",
       "4        44061  amish tomato ketchup canning tomato juic appl ...     5.0   \n",
       "...        ...                                                ...     ...   \n",
       "226652  486161  zydeco soup celeri onion green sweet pepper ga...     5.0   \n",
       "226653  493372  zydeco spice mix paprika salt garlic powder on...     5.0   \n",
       "226654  308080  zydeco ya ya devil egg hard cook egg mayonnais...     5.0   \n",
       "226655  298512  cooki design cooki stick butter eagl brand con...     1.0   \n",
       "226656  298509  cooki design sugar shortbread cooki granul sug...     2.0   \n",
       "\n",
       "        review  \n",
       "0            3  \n",
       "1            4  \n",
       "2            1  \n",
       "3            2  \n",
       "4            1  \n",
       "...        ...  \n",
       "226652       6  \n",
       "226653       1  \n",
       "226654       5  \n",
       "226655       1  \n",
       "226656       3  \n",
       "\n",
       "[226657 rows x 4 columns]"
      ]
     },
     "execution_count": 20,
     "metadata": {},
     "output_type": "execute_result"
    }
   ],
   "source": [
    "df_words = pd.read_csv(\"recipe_final.txt\",index_col=[0])\n",
    "df_words"
   ]
  },
  {
   "cell_type": "code",
   "execution_count": 21,
   "metadata": {},
   "outputs": [],
   "source": [
    "from sklearn.feature_extraction.text import TfidfVectorizer\n",
    "from sklearn.metrics.pairwise import cosine_similarity"
   ]
  },
  {
   "cell_type": "code",
   "execution_count": 22,
   "metadata": {},
   "outputs": [],
   "source": [
    "# Map the word column into an array\n",
    "text = df_words['combined words'].to_list()\n",
    "\n",
    "# Calculate the TF-IDF matrix\n",
    "\n",
    "model = TfidfVectorizer()\n",
    "matrix = model.fit_transform(text)"
   ]
  },
  {
   "cell_type": "code",
   "execution_count": 23,
   "metadata": {},
   "outputs": [],
   "source": [
    "def query_preprocessing(query):\n",
    "    \n",
    "    query = re.sub('[^a-zA-Z]', ' ', query)\n",
    "    query = query.split()\n",
    "    ps = PorterStemmer()\n",
    "    query = [ps.stem(word) for word in query if not word in set(stopwords.words('english'))]\n",
    "    query = ' '.join(query)\n",
    "    \n",
    "    return query"
   ]
  },
  {
   "cell_type": "code",
   "execution_count": 28,
   "metadata": {},
   "outputs": [],
   "source": [
    "def get_recipe(query):\n",
    "    \n",
    "    query = query_preprocessing(query)\n",
    "    query_matrix = model.transform([query])\n",
    "    similarity = cosine_similarity(matrix, query_matrix)\n",
    "    \n",
    "    similarity.flatten()\n",
    "    top10 = np.argsort(similarity.flatten())[-100:]\n",
    "    length = len(top10)\n",
    "#     print(sorted(similarity.flatten(), reverse=True))\n",
    "    for i in range(length):\n",
    "        j = top10[i]\n",
    "        name = df_words.loc[j]['combined words']\n",
    "        rating = df_words.loc[j]['rating']\n",
    "        print(name)\n",
    "        print(rating)\n",
    "#     index = np.argmax(similarity)\n",
    "#     name = df_read.loc[index]['name']\n",
    "    \n",
    "    return name"
   ]
  },
  {
   "cell_type": "code",
   "execution_count": 29,
   "metadata": {},
   "outputs": [
    {
     "name": "stdout",
     "output_type": "stream",
     "text": [
      "jamaican curri chicken fri chicken veget oil garlic scallion pepper curri powder allspic ginger coconut milk potato steam rice mango chutney yogurt\n",
      "2.6666666666666665\n",
      "steam chocol cake granul sugar milk butter sweeten condens milk cocoa powder plain flour bake powder bake soda egg\n",
      "5.0\n",
      "steam chicken chicken wing tomato red chili ginger spring onion ginger juic rice wine light soya sauc fine sugar cornflour sesam oil garlic oil\n",
      "5.0\n",
      "pina colada shrimp shrimp coconut milk fresh lime juic pineappl juic dark rum fresh cilantro garlic clove salt black pepper steam rice\n",
      "5.0\n",
      "steam salmon pepper salmon red pepper green pepper red wine vinegar oliv oil garlic powder oregano salt\n",
      "5.0\n",
      "simpl steam cabbag simpli good green cabbag butter salt pepper\n",
      "4.12\n",
      "chines steam dumpl dip sauc flour egg salt water ground pork scallion fresh ginger pea chili pepper flake soy sauc rice vinegar honey sesam oil sesam seed\n",
      "4.625\n",
      "spici shrimp chile sauc sugar water canola oil red onion garlic clove larg shrimp serrano chili fish sauc fresh ground pepper scallion coconut milk steam rice\n",
      "4.0\n",
      "greek rice spinach steam pressur cooker oliv oil onion garlic clove fresh dill weed fresh italian parsley long grain white rice water tomato past fresh lemon juic salt pepper fresh spinach lemon wedg\n",
      "5.0\n",
      "egg rice rice butter egg salt pepper\n",
      "4.2894736842105265\n",
      "steam rainbow layer cake rice flour tapioca flour salt coconut milk water caster sugar screwpin leav\n",
      "4.0\n",
      "kyli chicken fri rice veget oil egg red onion gingerroot boneless chicken thigh white sugar dri sherri steam rice bean sprout green onion oyster sauc light soy sauc sesam oil fresh cilantro\n",
      "4.5\n",
      "ginger steam salmon fresh gingerroot salmon fillet lemon salt freshli ground black pepper\n",
      "5.0\n",
      "zesti steam cauliflow cauliflow onion mayonnais cheddar chees lemon juic\n",
      "4.2\n",
      "steam corn basil butter fresh basil butter whip butter orang rind fresh corn\n",
      "5.0\n",
      "mom foami sauc steam pud butter egg powder sugar vanilla cream\n",
      "5.0\n",
      "zalm met rijst salmon rice can salmon steam rice butter flour salt pepper milk\n",
      "2.6666666666666665\n",
      "chines steam bread activ dri yeast white sugar purpos flour water warm water salt veget oil black pepper bake powder\n",
      "2.6666666666666665\n",
      "yoshinoya beef bowl steam rice beef onion soup soy sauc mirin sugar sake ginger\n",
      "4.2\n",
      "steam spinach herb fresh spinach fresh parsley sherri wine vinegar salt pepper lemon wedg\n",
      "4.8\n",
      "steam summer squash butter zucchini yellow squash onion butter honey salt\n",
      "3.0\n",
      "parmesan steam veget cauliflow floret carrot green bell pepper margarin ground nutmeg parmesan chees cilantro\n",
      "5.0\n",
      "kung pao beef flank steak salt egg white cornstarch peanut oil dri roast peanut dri red chili pepper red bell pepper green onion garlic ginger water chestnut steam rice chili past garlic soy sauc rice wine rice vinegar sugar chicken broth dark sesam oil\n",
      "5.0\n",
      "rice bhuteko rice stir fri chicken nepali style steam rice grill chicken breast onion red bell pepper zucchini green pea red chili garlic ginger cumin seed turmer dri red chili butter yogurt salt pepper sugar cilantro\n",
      "2.0\n",
      "bulgogi korean grill broil beef beef steam rice soy sauc sugar honey garlic wine sesam oil green onion salt black pepper\n",
      "5.0\n",
      "half hour steam pud butter golden syrup flour bake powder cocoa sugar salt egg\n",
      "4.0\n",
      "steam eggplant minc chicken rice vinegar eggplant rice vinegar sugar spring onion red chile minc chicken light soya sauc white pepper powder cornflour\n",
      "3.5\n",
      "steam veget potato egg salad carrot onion broccoli celeri egg potato mayonnais dijon mustard salt pepper cheddar chees oliv\n",
      "5.0\n",
      "healthi steam veget broccoli babi carrot summer squash zucchini red bell pepper\n",
      "4.5\n",
      "fish steam packet flounder scallion sesam oil rice vinegar low sodium soy sauc honey sesam seed\n",
      "5.0\n",
      "chicken almendrado oliv oil chicken piec onion garlic serrano chili salt black pepper chicken stock almond cilantro steam rice\n",
      "3.0\n",
      "mash potato zip n steam style potato milk butter salt\n",
      "5.0\n",
      "omuraisu japanes omelett onion egg mushroom chicken thigh butter steam rice white wine ketchup salt pepper\n",
      "2.5\n",
      "microwav steam salmon salmon fillet butter lemon pepper white wine\n",
      "0.0\n",
      "bob hearti breakfast ground sausag green pepper onion butter truffl oil flour salt pepper milk steam rice hamburg patti egg\n",
      "4.0\n",
      "stuf bell pepper soup lean ground beef green bell pepper onion jalapeno chop tomato tomato past beef broth steam rice onion soup mix\n",
      "3.8571428571428568\n",
      "steam artichok artichok lemon fresh garlic fresh thyme leav oliv oil butter pepper\n",
      "5.0\n",
      "steam brown bread purpos flour whole wheat flour cornmeal bake soda salt buttermilk molass raisin\n",
      "5.0\n",
      "steam turnip turnip butter salt\n",
      "5.0\n",
      "steam broccoli italian style broccoli fresh lemon extra virgin oliv oil garlic clove salt pepper\n",
      "5.0\n",
      "steam broccoli garlic bread crumb broccoli oliv oil garlic breadcrumb oregano salt ground pepper\n",
      "4.0\n",
      "microwav steam zucchini zucchini butter flavor cook spray salt pepper\n",
      "5.0\n",
      "healthi steam squash yellow squash zucchini butter salt water\n",
      "4.0\n",
      "steam asian salmon orang juic soy sauc rice vinegar honey fresh ginger garlic clove crush red pepper flake salmon steak green onion salt pepper\n",
      "4.0\n",
      "steam mocha cocoa milk cocoa brown sugar ground coffe vanilla extract\n",
      "4.690476190476192\n",
      "shrimp hot sauc szechuan style fresh shrimp cook oil dri hot red chili pepper garlic carrot soy sauc sugar dark sesam oil worcestershir sauc rice wine cornstarch water steam rice\n",
      "5.0\n",
      "butter steam broccoli head broccoli unsalt butter soy sauc salt pepper\n",
      "4.7\n",
      "steam carrot buff carrot water\n",
      "4.0\n",
      "awesom steam cheeseburg ground beef cheddar chees onion season salt ground black pepper water\n",
      "5.0\n",
      "steam bun activ dri yeast granul sugar milk egg veget oil salt bread flour water shorten\n",
      "3.0\n",
      "szechuan shred beef beef rump hot bean past light soy sauc rice wine sugar ginger oil celeri rib carrot onion green bell pepper dri red chili garlic sesam oil steam rice\n",
      "5.0\n",
      "steam broccoli chees fresh broccoli oliv oil garlic clove parmesan chees fresh lemon juic salt pepper\n",
      "4.6\n",
      "steam squash yellow squash sweet onion margarin season pepper sugar\n",
      "4.714285714285714\n",
      "artichok steam microwav artichok water lemon\n",
      "4.9\n",
      "steam salmon soy glaze salmon fillet soy sauc garlic clove gingerroot rice wine rice vinegar lemon juic sugar scallion soba noodl green bean\n",
      "5.0\n",
      "steam ginger shrimp rice wine fresh ginger green onion soy sauc sesam oil larg shrimp cabbag chicken broth cilantro\n",
      "4.0\n",
      "shrimp pineappl fri rice pineappl red pepper scallion fresh jalapeno pepper soy sauc sugar anchovi past turmer veget oil small shrimp garlic steam rice coriand\n",
      "5.0\n",
      "curri oven steam fish fillet coriand cumin turmer ginger dri mustard cinnamon clove cardamom chili pepper butter ketchup cook brown rice\n",
      "4.5\n",
      "fast asian fish salmon fillet light soy sauc gingerroot sweet chili sauc steam rice spring onion\n",
      "4.166666666666667\n",
      "steam bast fri egg egg veget oil cook spray water salt pepper\n",
      "4.285714285714286\n",
      "chicken egg rice bowl oyako boneless chicken breast egg onion mirin sugar soy sauc dashi stock steam rice chive\n",
      "5.0\n",
      "simpl steam broccoli fresh broccoli floret sugar butter water\n",
      "4.533333333333333\n",
      "chines chicken black pepper sauc boneless skinless chicken thigh cornstarch onion frozen pea carrot cook oil steam rice oyster sauc dark soy sauc black pepper white pepper rice wine\n",
      "4.606060606060606\n",
      "sweet sour chicken boneless skinless chicken breast salt egg cornstarch oil water sugar tomato ketchup white vinegar red pepper green pepper can pineappl chunk steam rice\n",
      "2.0\n",
      "irish steam chocol pud semisweet chocol butter egg sugar purpos flour\n",
      "5.0\n",
      "steam whole artichok oliv oil water artichok butter lemon\n",
      "3.8333333333333335\n",
      "spici roast chicken oyster sauc soy sauc ketchup light brown sugar garlic fresh ginger shallot hot chili past chicken steam rice\n",
      "4.714285714285714\n",
      "steam jelli egg egg cold water salt pepper veget oil spring onion soy sauc\n",
      "5.0\n",
      "egg crab meat fresh crabmeat egg chicken stock light soy sauc oil fresh ginger scallion cornstarch red wine vinegar steam rice\n",
      "5.0\n",
      "steam ginger fish veget white fish fillet cook rice fresh ginger fresh lemon juic mix veget\n",
      "5.0\n",
      "simpl steam green bean fresh green bean butter oliv oil kosher salt pepper\n",
      "4.9\n",
      "quick steam carrot babi carrot water orang juic honey ground ginger\n",
      "3.5\n",
      "steam asparagu lemon asparagu lemon\n",
      "4.625\n",
      "steam broccoli broccoli floret salad dress\n",
      "4.142857142857143\n",
      "cubano chicken rice bowl banana steam rice cook boneless skinless chicken breast black bean banana fresh cilantro onion salsa\n",
      "4.714285714285714\n",
      "taiwanes style pork rice bowl ground pork veget oil garlic shallot water soy sauc sugar rice wine five spice powder black pepper msg steam rice\n",
      "5.0\n",
      "ham egg jambalaya margarin ham onion steam rice egg creol season\n",
      "4.9\n",
      "thai steam egg egg tomato soy sauc broth onion pepper garlic fresh coriand leav\n",
      "4.0\n",
      "butteri steam red potato butter red potato salt pepper\n",
      "5.0\n",
      "laziest onigiri rice ball steam rice potato chip soy sauc\n",
      "3.5\n",
      "spici steam rice cumin lime juic long grain white rice butter cumin cajun season lime juic soy sauc chicken broth\n",
      "4.833333333333333\n",
      "quick steam pud flour sugar bake powder egg milk golden syrup butter\n",
      "5.0\n",
      "steam long grain rice tomato garlic long grain rice tomato juic garlic clove season salt pepper\n",
      "5.0\n",
      "rice bean sprout steam rice sesam seed salad oil scallion garlic bean sprout soy sauc\n",
      "4.5\n",
      "benihana style fri rice cook chicken steam rice egg onion carrot green onion sesam seed butter oil soy sauc pepper salt\n",
      "4.571428571428571\n",
      "surpris carrot casserol carrot peanut butter soy sauc yellow onion steam rice\n",
      "2.0\n",
      "ginger oyster steam rice white rice soy sauc water white pepper powder ginger oyster chines rice wine cilantro\n",
      "4.0\n",
      "perfect steam rice everi time long grain rice water\n",
      "4.608695652173913\n",
      "steam potato shorten white potato onion water salt pepper\n",
      "3.8\n",
      "steam rice coconut lemon jasmin rice stock salt coconut milk lemon juic zest\n",
      "4.5\n",
      "steam milk honey milk ground cinnamon clove nutmeg\n",
      "5.0\n",
      "delici korean steam white rice medium grain rice cold water\n",
      "3.5\n",
      "hamburg rice lean ground beef onion worcestershir sauc garlic powder salt pepper condens golden mushroom soup steam rice\n",
      "4.0\n",
      "steam rice long grain rice butter onion chicken broth salt orzo pasta broth\n",
      "4.818181818181818\n",
      "persian style steam rice basmati rice salt water unsalt butter\n",
      "5.0\n",
      "steam brown rice tomato garlic brown rice tomato juic garlic clove season salt pepper\n",
      "4.0\n",
      "steam egg egg butter water salt pepper chees\n",
      "5.0\n",
      "steam brown rice oil brown rice water salt pepper bay leaf thyme\n",
      "3.75\n",
      "cheesi rice steam rice sour cream cheddar chees cayenn pepper\n",
      "3.5\n",
      "steam white rice long grain rice water\n",
      "4.416666666666667\n",
      "steam white rice long grain rice water\n"
     ]
    }
   ],
   "source": [
    "print(get_recipe('steam rice'))"
   ]
  },
  {
   "cell_type": "markdown",
   "metadata": {},
   "source": [
    "# consider drop the duplicates from name column"
   ]
  },
  {
   "cell_type": "code",
   "execution_count": null,
   "metadata": {},
   "outputs": [],
   "source": []
  },
  {
   "cell_type": "code",
   "execution_count": null,
   "metadata": {},
   "outputs": [],
   "source": []
  },
  {
   "cell_type": "code",
   "execution_count": null,
   "metadata": {},
   "outputs": [],
   "source": []
  },
  {
   "cell_type": "code",
   "execution_count": null,
   "metadata": {},
   "outputs": [],
   "source": []
  },
  {
   "cell_type": "code",
   "execution_count": null,
   "metadata": {},
   "outputs": [],
   "source": []
  }
 ],
 "metadata": {
  "kernelspec": {
   "display_name": "Python 3",
   "language": "python",
   "name": "python3"
  },
  "language_info": {
   "codemirror_mode": {
    "name": "ipython",
    "version": 3
   },
   "file_extension": ".py",
   "mimetype": "text/x-python",
   "name": "python",
   "nbconvert_exporter": "python",
   "pygments_lexer": "ipython3",
   "version": "3.6.9"
  }
 },
 "nbformat": 4,
 "nbformat_minor": 4
}
