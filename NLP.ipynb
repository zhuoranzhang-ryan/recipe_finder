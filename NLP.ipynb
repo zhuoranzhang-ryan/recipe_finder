{
 "cells": [
  {
   "cell_type": "code",
   "execution_count": null,
   "metadata": {},
   "outputs": [],
   "source": [
    "import numpy as np\n",
    "import pandas as pd\n",
    "import matplotlib.pyplot as plt\n",
    "import re\n",
    "import nltk\n",
    "nltk.download('stopwords')"
   ]
  },
  {
   "cell_type": "code",
   "execution_count": null,
   "metadata": {},
   "outputs": [],
   "source": [
    "import os\n",
    "filepath_recipes = os.path.abspath(\"C:/Users/zhan3/Desktop/RAW_recipes.csv\")\n",
    "filepath_interactions = os.path.abspath(\"C:/Users/zhan3/Desktop/RAW_interactions.csv\")"
   ]
  },
  {
   "cell_type": "code",
   "execution_count": null,
   "metadata": {},
   "outputs": [],
   "source": [
    "df_recipe = pd.read_csv(filepath_recipes)\n",
    "df_interaction = pd.read_csv(filepath_interactions)\n",
    "df = pd.merge(df_recipe, df_interaction, how='inner', left_on='id', right_on='recipe_id')"
   ]
  },
  {
   "cell_type": "code",
   "execution_count": null,
   "metadata": {},
   "outputs": [],
   "source": [
    "df_rating = df.groupby('id').mean()['rating']"
   ]
  },
  {
   "cell_type": "code",
   "execution_count": null,
   "metadata": {},
   "outputs": [],
   "source": [
    "df_reviews = df.groupby('id').count()['review']"
   ]
  },
  {
   "cell_type": "code",
   "execution_count": null,
   "metadata": {},
   "outputs": [],
   "source": [
    "df_new = pd.merge(df_recipe, df_rating, how='left', on='id')"
   ]
  },
  {
   "cell_type": "code",
   "execution_count": null,
   "metadata": {},
   "outputs": [],
   "source": [
    "df_new = df_new[['id', 'name', 'tags', 'description', 'ingredients', 'rating']]\n",
    "df_new.dropna(axis=0, inplace=True)\n",
    "df_final = df_new.reset_index(drop=True)"
   ]
  },
  {
   "cell_type": "code",
   "execution_count": null,
   "metadata": {},
   "outputs": [],
   "source": [
    "df_final.head()"
   ]
  },
  {
   "cell_type": "code",
   "execution_count": null,
   "metadata": {},
   "outputs": [],
   "source": [
    "from nltk.corpus import stopwords\n",
    "from nltk.stem.porter import PorterStemmer"
   ]
  },
  {
   "cell_type": "markdown",
   "metadata": {},
   "source": [
    "#### Run this cell carefully, it will take 30 minutes."
   ]
  },
  {
   "cell_type": "code",
   "execution_count": null,
   "metadata": {},
   "outputs": [],
   "source": [
    "# for i in range(len(df_final)):\n",
    "    \n",
    "#     ingredients = df_final.loc[i]['ingredients']\n",
    "#     ingredients = re.sub('[^a-zA-Z]', ' ', ingredients)\n",
    "#     name = df_final.loc[i]['name']\n",
    "#     name = re.sub('[^a-zA-Z]', ' ', name)\n",
    "#     combined = name + ingredients\n",
    "#     combined = combined.split()\n",
    "#     ps = PorterStemmer()\n",
    "#     combined = [ps.stem(word) for word in combined if not word in set(stopwords.words('english'))]\n",
    "#     combined = ' '.join(combined)\n",
    "#     df_final.at[i, \"combined words\"] = combined    "
   ]
  },
  {
   "cell_type": "code",
   "execution_count": null,
   "metadata": {},
   "outputs": [],
   "source": [
    "# df_final.to_csv('recipe.csv', index=False)"
   ]
  },
  {
   "cell_type": "code",
   "execution_count": null,
   "metadata": {},
   "outputs": [],
   "source": [
    "# df_read = pd.read_csv('recipe.csv')\n",
    "# df_read = pd.merge(df_read, df_reviews, how='left', on='id')\n",
    "# df_words = df_read[['id', 'combined words', 'rating', 'review']]"
   ]
  },
  {
   "cell_type": "code",
   "execution_count": null,
   "metadata": {},
   "outputs": [],
   "source": [
    "# df_words.to_csv('recipe_final.csv')"
   ]
  },
  {
   "cell_type": "markdown",
   "metadata": {},
   "source": [
    "### NLP training"
   ]
  },
  {
   "cell_type": "code",
   "execution_count": null,
   "metadata": {},
   "outputs": [],
   "source": [
    "df_words = pd.read_csv(\"recipe_final.csv\")"
   ]
  },
  {
   "cell_type": "code",
   "execution_count": null,
   "metadata": {},
   "outputs": [],
   "source": [
    "from sklearn.feature_extraction.text import TfidfVectorizer\n",
    "from sklearn.metrics.pairwise import cosine_similarity"
   ]
  },
  {
   "cell_type": "code",
   "execution_count": null,
   "metadata": {},
   "outputs": [],
   "source": [
    "# Map the word column into an array\n",
    "text = df_words['combined words'].to_list()\n",
    "\n",
    "# Calculate the TF-IDF matrix\n",
    "\n",
    "model = TfidfVectorizer()\n",
    "matrix = model.fit_transform(text)"
   ]
  },
  {
   "cell_type": "code",
   "execution_count": null,
   "metadata": {},
   "outputs": [],
   "source": [
    "def query_preprocessing(query):\n",
    "    \n",
    "    query = re.sub('[^a-zA-Z]', ' ', query)\n",
    "    query = query.split()\n",
    "    ps = PorterStemmer()\n",
    "    query = [ps.stem(word) for word in query if not word in set(stopwords.words('english'))]\n",
    "    query = ' '.join(query)\n",
    "    \n",
    "    return query"
   ]
  },
  {
   "cell_type": "code",
   "execution_count": null,
   "metadata": {},
   "outputs": [],
   "source": [
    "def get_recipe(query):\n",
    "    \n",
    "    query = query_preprocessing(query)\n",
    "    query_matrix = model.transform([query])\n",
    "    similarity = cosine_similarity(matrix, query_matrix)\n",
    "    \n",
    "    similarity.flatten()\n",
    "    top10 = np.argsort(similarity.flatten())[-100:]\n",
    "    length = len(top10)\n",
    "#     print(sorted(similarity.flatten(), reverse=True))\n",
    "    for i in range(length):\n",
    "        j = top10[i]\n",
    "        name = df_read.loc[j]['name']\n",
    "        rating = df_read.loc[j]['rating']\n",
    "        print(name)\n",
    "        print(rating)\n",
    "#     index = np.argmax(similarity)\n",
    "#     name = df_read.loc[index]['name']\n",
    "    \n",
    "    return name"
   ]
  },
  {
   "cell_type": "code",
   "execution_count": null,
   "metadata": {},
   "outputs": [],
   "source": [
    "print(get_recipe('steam rice'))"
   ]
  },
  {
   "cell_type": "markdown",
   "metadata": {},
   "source": [
    "# consider drop the duplicates from name column"
   ]
  },
  {
   "cell_type": "code",
   "execution_count": null,
   "metadata": {},
   "outputs": [],
   "source": []
  },
  {
   "cell_type": "code",
   "execution_count": null,
   "metadata": {},
   "outputs": [],
   "source": []
  },
  {
   "cell_type": "code",
   "execution_count": null,
   "metadata": {},
   "outputs": [],
   "source": []
  },
  {
   "cell_type": "code",
   "execution_count": null,
   "metadata": {},
   "outputs": [],
   "source": []
  },
  {
   "cell_type": "code",
   "execution_count": null,
   "metadata": {},
   "outputs": [],
   "source": []
  }
 ],
 "metadata": {
  "kernelspec": {
   "display_name": "Python 3",
   "language": "python",
   "name": "python3"
  },
  "language_info": {
   "codemirror_mode": {
    "name": "ipython",
    "version": 3
   },
   "file_extension": ".py",
   "mimetype": "text/x-python",
   "name": "python",
   "nbconvert_exporter": "python",
   "pygments_lexer": "ipython3",
   "version": "3.6.10"
  }
 },
 "nbformat": 4,
 "nbformat_minor": 4
}
